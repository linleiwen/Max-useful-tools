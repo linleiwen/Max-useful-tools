{
 "cells": [
  {
   "cell_type": "code",
   "execution_count": null,
   "metadata": {},
   "outputs": [],
   "source": [
    "import pandas as pd\n",
    "from selenium import webdriver\n",
    "#import os\n",
    "from selenium.webdriver.common.by import By\n",
    "#import time\n",
    "from selenium.webdriver.support.select import Select\n",
    "from lib.mywait import mywait\n",
    "from selenium.webdriver.common.keys import Keys\n",
    "from datetime import datetime\n",
    "from PIL import Image"
   ]
  },
  {
   "cell_type": "code",
   "execution_count": null,
   "metadata": {},
   "outputs": [],
   "source": [
    "import time\n",
    "import os\n",
    "production_botton = False\n",
    "url = \"\"\n",
    "need_environment_var_list = [\"chromedriver\",\"QBUSERNAME\",\"QBPASSWORD\"]\n",
    "environment_var_dict  = {}\n",
    "for var_key in need_environment_var_list:\n",
    "    try:\n",
    "        environment_var_dict[var_key] = os.environ[var_key]\n",
    "    except:\n",
    "        print(f\"Please add environment variable for {var_key}, and run the APP\")\n",
    "        time.sleep(10)\n",
    "        raise AttributeError"
   ]
  },
  {
   "cell_type": "code",
   "execution_count": null,
   "metadata": {},
   "outputs": [],
   "source": []
  }
 ],
 "metadata": {
  "kernelspec": {
   "display_name": "Python 3",
   "language": "python",
   "name": "python3"
  },
  "language_info": {
   "codemirror_mode": {
    "name": "ipython",
    "version": 3
   },
   "file_extension": ".py",
   "mimetype": "text/x-python",
   "name": "python",
   "nbconvert_exporter": "python",
   "pygments_lexer": "ipython3",
   "version": "3.6.4"
  }
 },
 "nbformat": 4,
 "nbformat_minor": 2
}
